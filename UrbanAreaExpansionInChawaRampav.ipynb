{
  "cells": [
    {
      "cell_type": "markdown",
      "metadata": {
        "id": "view-in-github",
        "colab_type": "text"
      },
      "source": [
        "<a href=\"https://colab.research.google.com/github/mohigeo33/urban_expansion/blob/main/UrbanAreaExpansionInChawaRampav.ipynb\" target=\"_parent\"><img src=\"https://colab.research.google.com/assets/colab-badge.svg\" alt=\"Open In Colab\"/></a>"
      ]
    },
    {
      "cell_type": "markdown",
      "id": "ecfa27ab",
      "metadata": {
        "id": "ecfa27ab"
      },
      "source": [
        "#### Import the required packages"
      ]
    },
    {
      "cell_type": "code",
      "source": [
        "\n",
        "# !pip install geemap geopandas rasterio"
      ],
      "metadata": {
        "id": "NJtAsUPjf4b9"
      },
      "id": "NJtAsUPjf4b9",
      "execution_count": 4,
      "outputs": []
    },
    {
      "cell_type": "code",
      "execution_count": 5,
      "id": "c8633149",
      "metadata": {
        "id": "c8633149"
      },
      "outputs": [],
      "source": [
        "# loading necessary libraries\n",
        "import os\n",
        "import glob\n",
        "import sys\n",
        "import ee\n",
        "import geemap\n",
        "import geopandas as gpd\n",
        "import pandas as pd\n",
        "from tqdm import tqdm\n",
        "import requests\n",
        "from skimage.io import imread\n",
        "import matplotlib.pyplot as plt\n",
        "import numpy as np\n",
        "import rasterio\n",
        "from rasterio.plot import show\n",
        "import fiona\n",
        "from scipy import stats"
      ]
    },
    {
      "cell_type": "markdown",
      "id": "f3d788b0",
      "metadata": {
        "id": "f3d788b0"
      },
      "source": [
        "#### Authenticate and initialize the google earth engine server"
      ]
    },
    {
      "cell_type": "code",
      "execution_count": null,
      "id": "86c78c58",
      "metadata": {
        "id": "86c78c58"
      },
      "outputs": [],
      "source": [
        "ee.Authenticate()\n",
        "ee.Initialize()"
      ]
    },
    {
      "cell_type": "markdown",
      "id": "89e794eb",
      "metadata": {
        "id": "89e794eb"
      },
      "source": [
        "#### User Inputs"
      ]
    },
    {
      "cell_type": "code",
      "execution_count": 7,
      "id": "3a2d9110",
      "metadata": {
        "id": "3a2d9110"
      },
      "outputs": [],
      "source": [
        "# Study period\n",
        "from_year = 2013\n",
        "to_year = 2021\n",
        "from_month = 1\n",
        "to_month = 12\n",
        "maximum_cloud = 10# in percentage\n",
        "\n",
        "# AOI\n",
        "# roi =  \"./aoi3/aoi3.shp\" # insert input here\n",
        "# aoi = geemap.shp_to_ee(roi)\n",
        "aoi = ee.FeatureCollection('projects/urban-area-expansion/assets/Chbar_Ampov_Boundary')\n",
        "validationPoints = ee.FeatureCollection('projects/urban-area-expansion/assets/ValPointswithXYCoords')"
      ]
    },
    {
      "cell_type": "code",
      "execution_count": null,
      "id": "5b5d7df2",
      "metadata": {
        "scrolled": true,
        "id": "5b5d7df2"
      },
      "outputs": [],
      "source": [
        "# Visualise the AOI boundary\n",
        "Map = geemap.Map()\n",
        "Map.addLayer(aoi, {}, 'AOI')\n",
        "Map.addLayer(validationPoints, {}, 'validationPoints')\n",
        "Map.centerObject(aoi, zoom=12)\n",
        "Map"
      ]
    },
    {
      "cell_type": "markdown",
      "id": "a6125d2f",
      "metadata": {
        "id": "a6125d2f"
      },
      "source": [
        "#### Defining the required functions"
      ]
    },
    {
      "cell_type": "code",
      "execution_count": 9,
      "id": "3607a05e",
      "metadata": {
        "id": "3607a05e"
      },
      "outputs": [],
      "source": [
        "# For Pre processing\n",
        "\n",
        "# Cloud masking for Surface Reflectance Products (Nill et. al., 2019)\n",
        "def fctn_cloud(img):\n",
        "    cloudShadowBitMask = ee.Number(2).pow(3).int()\n",
        "    cloudsBitMask = ee.Number(2).pow(5).int()\n",
        "    snowBitMask = ee.Number(2).pow(4).int()\n",
        "    qa = img.select('pixel_qa')\n",
        "    mask = qa.bitwiseAnd(cloudShadowBitMask).eq(0).And(qa.bitwiseAnd(cloudsBitMask).eq(0)).And(\n",
        "        qa.bitwiseAnd(snowBitMask).eq(0))\n",
        "    return img.updateMask(mask)\n",
        "\n",
        "\n",
        "def fctn_bndscale_ls8(img):\n",
        "    bands = ['B2', 'B3', 'B4', 'B5', 'B6', 'B7']\n",
        "    new_bands = ['blue', 'green', 'red', 'nir', 'swir1', 'swir2']\n",
        "    visnirswir = img.select(bands).rename(new_bands)\n",
        "    return visnirswir.copyProperties(img, ['system:time_start'])\n",
        "\n",
        "#clipping\n",
        "def fctn_clip(img):\n",
        "    clip_img = img.clip(aoi)\n",
        "    return clip_img "
      ]
    },
    {
      "cell_type": "code",
      "execution_count": 10,
      "id": "ce6f23de",
      "metadata": {
        "id": "ce6f23de"
      },
      "outputs": [],
      "source": [
        "# For Feature creation\n",
        "\n",
        "# NDBI\n",
        "def fctn_ndbi(img):\n",
        "    ndbi = img.normalizedDifference(['swir1', 'nir']).rename('NDBI')\n",
        "    return img.addBands(ndbi)       \n",
        "\n",
        "def fctn_ndwi(img):\n",
        "    ndwi = img.normalizedDifference(['green', 'swir1']).rename('NDWI')\n",
        "    return img.addBands(ndwi)\n",
        "\n",
        "# NDVI\n",
        "def fctn_ndvi(img):\n",
        "    ndvi = img.normalizedDifference(['nir', 'red']).rename('NDVI')\n",
        "    return img.addBands(ndvi)\n",
        "\n",
        "# SAVI\n",
        "def fctn_savi(img):\n",
        "    l = ee.Number(0.5)\n",
        "    savi = img.expression('((nir - red) / (nir + red + l)) * (1+l)',{\n",
        "            'nir': img.select('nir'),\n",
        "            'red': img.select('red'),\n",
        "            'l': l}).rename('SAVI')\n",
        "    return img.addBands(savi)\n",
        "\n",
        "def fctn_ibi(img):\n",
        "    const = ee.Number(2)\n",
        "    ibi = img.expression(\n",
        "        '(((const * swir1) / (swir1 + nir))-((nir / (nir + red)) + (green / (green + swir1))))   / (((const * swir1) / (swir1 + nir))+((nir / (nir + red)) + (green / (green + swir1))))',           {\n",
        "            'swir1': img.select('swir1'),\n",
        "            'nir': img.select('nir'),\n",
        "            'red': img.select('red'),\n",
        "            'green': img.select('green'),\n",
        "            'const': const}).rename('IBI')\n",
        "    return img.addBands(ibi)"
      ]
    },
    {
      "cell_type": "code",
      "execution_count": 11,
      "id": "dda27520",
      "metadata": {
        "id": "dda27520"
      },
      "outputs": [],
      "source": [
        "#Utilities \n",
        "def fctn_downloadImageCollection(imagecollection, region, foldername):\n",
        "    imagecollection = ee.ImageCollection(imagecollection)\n",
        "\n",
        "    region = ee.FeatureCollection(region)\n",
        "    \n",
        "    ImageCollectionFeaturesMeta = imagecollection.getInfo()['features']\n",
        "    imagecollection_size =  len(ImageCollectionFeaturesMeta) #imagecollection.size().getInfo()\n",
        "    \n",
        "    imagecollection_list = imagecollection.toList(imagecollection_size)\n",
        "    \n",
        "    for i in tqdm(range(0,imagecollection_size)):\n",
        "        image = ee.Image(imagecollection_list.get(i))\n",
        "        image_id = ImageCollectionFeaturesMeta[i]['id'].split('/')[-1] #image.id().getInfo()\n",
        "        \n",
        "        image_download_url = image.getDownloadUrl({\n",
        "            'region': region.geometry().bounds().getInfo()['coordinates'], #region.geometry()\n",
        "            'scale': 30,\n",
        "            'format': 'GEO_TIFF'})\n",
        "        \n",
        "        response = requests.get(image_download_url)\n",
        "        filename = str(foldername)+\"/\"+str(image_id)+\".tiff\"\n",
        "        \n",
        "        os.makedirs(os.path.dirname(filename), exist_ok=True)\n",
        "        with open(filename, 'wb') as fd:\n",
        "            fd.write(response.content)        \n",
        "    return\n",
        "\n",
        "\n",
        "def fctn_showAllTiffsfroPath(folder_path):\n",
        "    filenames = glob.glob(folder_path + '*.tiff')\n",
        "    num_files = len(filenames)\n",
        "    num_rows = (num_files + 2) // 3\n",
        "\n",
        "    fig, axs = plt.subplots(num_rows, 3, figsize=(12, 4*num_rows))\n",
        "\n",
        "    for idx, filename in enumerate(filenames):\n",
        "        rowidx = idx // 3\n",
        "        colidx = idx % 3\n",
        "\n",
        "        Allbands = rasterio.open(filename, 'r')\n",
        "\n",
        "        ax = axs[rowidx, colidx]\n",
        "        show((Allbands, 1), ax=ax, cmap='turbo')\n",
        "        ax.set_title(filename.replace('\\\\','/'))\n",
        "\n",
        "        norm = plt.Normalize(vmin=Allbands.read(1).min(), vmax=Allbands.read(1).max())\n",
        "        sm = plt.cm.ScalarMappable(cmap='turbo', norm=norm)\n",
        "        cbar = fig.colorbar(sm, ax=ax, shrink=0.5, pad=0.05, aspect=10)\n",
        "        Allbands.close()\n",
        "\n",
        "    plt.tight_layout()\n",
        "    plt.show()\n",
        "    return\n",
        "\n",
        "\n",
        "def convertIBItoBinary(folder_path, output_path):\n",
        "    filepaths = glob.glob(folder_path + '*.tiff')\n",
        "    num_files = len(filepaths)\n",
        "    \n",
        "    for i in range(0, num_files):\n",
        "        filepath = filepaths[i].replace('\\\\','/')\n",
        "        filename = filepath.split('/')[-1].replace('.','_Binary.')\n",
        "        \n",
        "        with rasterio.open(filepath) as f:\n",
        "            upadated_file_data = f.read(1)\n",
        "          # replace all the values less than 0\n",
        "            upadated_file_data[upadated_file_data == 0] = 0\n",
        "            upadated_file_data[upadated_file_data < 0.018] = -1\n",
        "            upadated_file_data[upadated_file_data >= 0.018] = 1\n",
        "                \n",
        "                \n",
        "            updatedfile_meta  = f.meta.copy()\n",
        "            os.makedirs(os.path.dirname(outpath+filename), exist_ok=True)\n",
        "            with rasterio.open(outpath+filename, 'w', **updatedfile_meta) as dst:\n",
        "                    dst.write_band(1, upadated_file_data.astype(rasterio.int16))            \n",
        "    return "
      ]
    },
    {
      "cell_type": "markdown",
      "id": "ea0610f3",
      "metadata": {
        "id": "ea0610f3"
      },
      "source": [
        "#### Data acquisition"
      ]
    },
    {
      "cell_type": "code",
      "execution_count": null,
      "id": "76426c0a",
      "metadata": {
        "id": "76426c0a"
      },
      "outputs": [],
      "source": [
        "# Landsat 8\n",
        "coll_ls8_sr = ee.ImageCollection('LANDSAT/LC08/C01/T1_SR')\\\n",
        "    .filterBounds(aoi)\\\n",
        "    .filter(ee.Filter.calendarRange(from_year,to_year,'year'))\\\n",
        "    .filter(ee.Filter.calendarRange(from_month,to_month,'month'))\\\n",
        "    .filter(ee.Filter.lt('CLOUD_COVER_LAND', maximum_cloud))\\\n",
        "    .map(fctn_cloud)\n",
        "\n",
        "print(\"Total LS 8 collection SR: \",coll_ls8_sr.size().getInfo())"
      ]
    },
    {
      "cell_type": "markdown",
      "id": "10fbf872",
      "metadata": {
        "id": "10fbf872"
      },
      "source": [
        "#### Data pre-processing"
      ]
    },
    {
      "cell_type": "code",
      "execution_count": 13,
      "id": "b44515e1",
      "metadata": {
        "id": "b44515e1"
      },
      "outputs": [],
      "source": [
        "coll_ls8_sr = coll_ls8_sr.map(lambda img: img.multiply(0.0001).copyProperties(img, img.propertyNames())) # Radiometric calibration\n",
        "coll_ls8_sr = coll_ls8_sr.map(fctn_bndscale_ls8) #renaming bands\n",
        "merged_coll = coll_ls8_sr.sort('system:time_start') #sorting the images according to time"
      ]
    },
    {
      "cell_type": "markdown",
      "id": "56e3a753",
      "metadata": {
        "id": "56e3a753"
      },
      "source": [
        "#### Output feature creation"
      ]
    },
    {
      "cell_type": "code",
      "execution_count": 14,
      "id": "71921f1f",
      "metadata": {
        "id": "71921f1f"
      },
      "outputs": [],
      "source": [
        "dataset = merged_coll\n",
        "dataset = dataset.map(fctn_ndbi) # Calculating and adding NDBI to dataset\n",
        "dataset = dataset.map(fctn_ndwi)  # Calculating and adding NDWI to dataset\n",
        "dataset = dataset.map(fctn_savi) # Calculating and adding SAVI to dataset\n",
        "dataset = dataset.map(fctn_ibi) # Calculating and adding IBI to dataset\n",
        "dataset = dataset.map(fctn_ndvi) # Calculating and adding NDVI to dataset"
      ]
    },
    {
      "cell_type": "code",
      "execution_count": null,
      "id": "5ed0777e",
      "metadata": {
        "id": "5ed0777e"
      },
      "outputs": [],
      "source": [
        "# Separating all new created features\n",
        "allNDBI = dataset.map(lambda image: image.select('NDBI')) \n",
        "allNDWI = dataset.map(lambda image: image.select('NDWI'))\n",
        "allSAVI = dataset.map(lambda image: image.select('SAVI'))\n",
        "allIBI = dataset.map(lambda image: image.select('IBI'))\n",
        "allNDVI = dataset.map(lambda image: image.select('NDVI'))\n",
        "\n",
        "# Downloading the newly created features bandwise\n",
        "print('Downloading allNDBI')\n",
        "fctn_downloadImageCollection(allNDBI,aoi,'./Outputs/allNDBI') \n",
        "print('Downloading allNDWI')\n",
        "fctn_downloadImageCollection(allNDWI,aoi,'./Outputs/allNDWI')\n",
        "print('Downloading allSAVI')\n",
        "fctn_downloadImageCollection(allSAVI,aoi,'./Outputs/allSAVI')\n",
        "print('Downloading allIBI')\n",
        "fctn_downloadImageCollection(allIBI ,aoi,'./Outputs/allIBI')\n",
        "print('Downloading allNDVI')\n",
        "fctn_downloadImageCollection(allNDVI,aoi,'./Outputs/allNDVI')"
      ]
    },
    {
      "cell_type": "code",
      "execution_count": null,
      "id": "34691a34",
      "metadata": {
        "id": "34691a34"
      },
      "outputs": [],
      "source": [
        "# Get yearly one dataset\n",
        "years = range(from_year, to_year + 1)\n",
        "\n",
        "yearlydatasetNDBI = [] #this variable contains a single image from each year\n",
        "yearlydatasetNDWI = []\n",
        "yearlydatasetSAVI = []\n",
        "yearlydatasetIBI = []\n",
        "yearlydatasetNDVI = []\n",
        "\n",
        "for year in years:\n",
        "    start = ee.Date.fromYMD(year, 1, 1)\n",
        "    end = ee.Date.fromYMD(year, 12, 31)\n",
        "    \n",
        "    thisyrNDBI = allNDVI.filterDate(start, end).first()\n",
        "    thisyrNDWI = allNDWI.filterDate(start, end).first()\n",
        "    thisyrSAVI = allSAVI.filterDate(start, end).first()\n",
        "    thisyrIBI = allIBI.filterDate(start, end).first()\n",
        "    thisyrNDVI = allNDVI.filterDate(start, end).first()\n",
        "    \n",
        "    yearlydatasetNDBI.append(thisyrNDBI) \n",
        "    yearlydatasetNDWI.append(thisyrNDWI)\n",
        "    yearlydatasetSAVI.append(thisyrSAVI)\n",
        "    yearlydatasetIBI.append(thisyrIBI)\n",
        "    yearlydatasetNDVI.append(thisyrNDVI)\n",
        "    \n",
        "yearlydatasetNDBI = ee.ImageCollection.fromImages(yearlydatasetNDBI)\n",
        "yearlydatasetNDWI = ee.ImageCollection.fromImages(yearlydatasetNDWI)\n",
        "yearlydatasetSAVI = ee.ImageCollection.fromImages(yearlydatasetSAVI)\n",
        "yearlydatasetIBI = ee.ImageCollection.fromImages(yearlydatasetIBI)\n",
        "yearlydatasetNDVI = ee.ImageCollection.fromImages(yearlydatasetNDVI)\n",
        "\n",
        "fctn_downloadImageCollection(yearlydatasetNDBI, aoi, './Outputs/allNDBI/OnePerYear')\n",
        "fctn_downloadImageCollection(yearlydatasetNDWI, aoi, './Outputs/allNDWI/OnePerYear')\n",
        "fctn_downloadImageCollection(yearlydatasetSAVI, aoi, './Outputs/allSAVI/OnePerYear')\n",
        "fctn_downloadImageCollection(yearlydatasetIBI, aoi, './Outputs/allIBI/OnePerYear')\n",
        "fctn_downloadImageCollection(yearlydatasetNDVI, aoi, './Outputs/allNDVI/OnePerYear')"
      ]
    },
    {
      "cell_type": "code",
      "execution_count": null,
      "id": "3a1e2f9d",
      "metadata": {
        "id": "3a1e2f9d"
      },
      "outputs": [],
      "source": [
        "#Showing all NDBI\n",
        "dirNDBI = './Outputs/allNDBI/'\n",
        "fctn_showAllTiffsfroPath(dirNDBI)"
      ]
    },
    {
      "cell_type": "code",
      "execution_count": null,
      "id": "75f30acc",
      "metadata": {
        "id": "75f30acc"
      },
      "outputs": [],
      "source": [
        "#Showing all NDWI\n",
        "dirNDWI = './Outputs/allNDWI/'\n",
        "fctn_showAllTiffsfroPath(dirNDWI)"
      ]
    },
    {
      "cell_type": "code",
      "execution_count": null,
      "id": "b8b4d030",
      "metadata": {
        "id": "b8b4d030"
      },
      "outputs": [],
      "source": [
        "#Showing all NDVI\n",
        "dirNDVI = './Outputs/allNDVI/'\n",
        "fctn_showAllTiffsfroPath(dirNDVI)"
      ]
    },
    {
      "cell_type": "code",
      "execution_count": null,
      "id": "55d984f5",
      "metadata": {
        "id": "55d984f5"
      },
      "outputs": [],
      "source": [
        "#Showing all SAVI\n",
        "dirSAVI = './Outputs/allSAVI/'\n",
        "fctn_showAllTiffsfroPath(dirSAVI)"
      ]
    },
    {
      "cell_type": "code",
      "execution_count": null,
      "id": "9b79cda3",
      "metadata": {
        "scrolled": false,
        "id": "9b79cda3"
      },
      "outputs": [],
      "source": [
        "#Showing all IBI\n",
        "dirIBI = './Outputs/allIBI/'\n",
        "fctn_showAllTiffsfroPath(dirIBI)"
      ]
    },
    {
      "cell_type": "markdown",
      "id": "046810bc",
      "metadata": {
        "id": "046810bc"
      },
      "source": [
        "#### Convert the IBI to binary(Builtup/Non-builtup) and save the  as tiff"
      ]
    },
    {
      "cell_type": "code",
      "execution_count": 22,
      "id": "a5456650",
      "metadata": {
        "id": "a5456650"
      },
      "outputs": [],
      "source": [
        "outpath = './Outputs/allIBI/Binary/'\n",
        "convertIBItoBinary(dirIBI,outpath)"
      ]
    },
    {
      "cell_type": "markdown",
      "id": "20be4636",
      "metadata": {
        "id": "20be4636"
      },
      "source": [
        "#### Post processing"
      ]
    },
    {
      "cell_type": "code",
      "execution_count": 23,
      "id": "d3ae405d",
      "metadata": {
        "id": "d3ae405d"
      },
      "outputs": [],
      "source": [
        "# Creating the dataset for ground validation\n",
        "\n",
        "validationPoints_gdf = geemap.ee_to_gdf(validationPoints)\n",
        "ibi_one_per_yr_folderpath = './Outputs/allIBI/OnePerYear/'\n",
        "ibi_one_per_yr_file_paths = glob.glob(ibi_one_per_yr_folderpath + '*.tiff')\n",
        "num_files = len(ibi_one_per_yr_file_paths)\n",
        "\n",
        "\n",
        "for i in range(0, num_files):\n",
        "    filepath = ibi_one_per_yr_file_paths[i].replace('\\\\','/')\n",
        "    yr = filepath.split('_')[-1][:4]\n",
        "\n",
        "    with rasterio.open(filepath) as src:\n",
        "        file_data = src.read(1)\n",
        "        file_transform = src.transform\n",
        "    \n",
        "    # Get the pixel values for each point\n",
        "    yr_pixel_values = []\n",
        "    builup_statuses = []\n",
        "\n",
        "    for i, point in validationPoints_gdf.iterrows():\n",
        "        point_row, point_col = rasterio.transform.rowcol(file_transform, point.x, point.y)\n",
        "        point_pixel_value = round(file_data[point_row, point_col],5)\n",
        "        yr_pixel_values.append(point_pixel_value)\n",
        "        \n",
        "        if point_pixel_value < 0.018:\n",
        "            builtup_status = 0 # 0 : Non Builtup\n",
        "            \n",
        "        elif point_pixel_value >= 0.018:\n",
        "            builtup_status = 1 # 1: Builtup\n",
        "        builup_statuses.append(builtup_status)\n",
        "        \n",
        "    validationPoints_gdf[yr]=yr_pixel_values\n",
        "    validationPoints_gdf[str(yr)+'T']=builup_statuses"
      ]
    },
    {
      "cell_type": "code",
      "execution_count": null,
      "id": "08482144",
      "metadata": {
        "id": "08482144"
      },
      "outputs": [],
      "source": [
        "validationPoints_gdf.head(3)"
      ]
    },
    {
      "cell_type": "code",
      "execution_count": 25,
      "id": "18e3f035",
      "metadata": {
        "id": "18e3f035"
      },
      "outputs": [],
      "source": [
        "validationPoints_path = './Outputs/validationPointsForGroundValidation/'\n",
        "os.makedirs(os.path.dirname(validationPoints_path), exist_ok=True)\n",
        "validationPoints_gdf.to_file(validationPoints_path+'validationPointsWithIBI.shp', crs = \"EPSG:4326\") # GEE stores fc in 4326"
      ]
    },
    {
      "cell_type": "code",
      "execution_count": 26,
      "id": "9e3f6276",
      "metadata": {
        "id": "9e3f6276"
      },
      "outputs": [],
      "source": [
        "# creating a dataframe for indices values for validation points to understand the coorelation between indices\n",
        "    # for this one representative image (from 2017) is considered \n",
        "    \n",
        "\n",
        "pixeldatafarame = pd.DataFrame(columns=['PointID','NDBI','NDWI','IBI','NDVI'])\n",
        "\n",
        "# Load the selected image tiff file for all the indices folders\n",
        "rasterfile_ibi = './Outputs/allIBI/OnePerYear/LC08_126052_20171206.tiff'\n",
        "rasterfile_ndbi = './Outputs/allNDBI/OnePerYear/LC08_126052_20171206.tiff'\n",
        "rasterfile_ndwi = './Outputs/allNDWI/OnePerYear/LC08_126052_20171206.tiff'\n",
        "rasterfile_ndvi = './Outputs/allNDVI/OnePerYear/LC08_126052_20171206.tiff'\n",
        "\n",
        "# Load the raster file \n",
        "\n",
        "#ibi\n",
        "with rasterio.open(rasterfile_ibi) as src:\n",
        "    file_data_ibi = src.read(1)\n",
        "    transform_ibi = src.transform\n",
        "    \n",
        "# ndbi\n",
        "with rasterio.open(rasterfile_ndbi) as src:\n",
        "    file_data_ndbi = src.read(1)\n",
        "    transform_ndbi = src.transform\n",
        "    \n",
        "#ndvi\n",
        "with rasterio.open(rasterfile_ndvi) as src:\n",
        "    file_data_ndvi = src.read(1)\n",
        "    transform_ndvi = src.transform\n",
        "    \n",
        "#ndwi\n",
        "with rasterio.open(rasterfile_ndwi) as src:\n",
        "    file_data_ndwi = src.read(1)\n",
        "    transform_ndwi = src.transform\n",
        "\n",
        "# Get the pixel values for each point\n",
        "pixel_values = []\n",
        "\n",
        "for i, point in validationPoints_gdf.iterrows():\n",
        "    \n",
        "    row_ibi, col_ibi = rasterio.transform.rowcol(transform_ibi, point.x, point.y)\n",
        "    pixel_value_ibi = file_data_ibi[row_ibi, col_ibi]\n",
        "\n",
        "    \n",
        "    row_ndbi, col_ndbi = rasterio.transform.rowcol(transform_ndbi, point.x, point.y)\n",
        "    pixel_value_ndbi = file_data_ndbi[row_ndbi, col_ndbi]\n",
        "    \n",
        "    row_ndvi, col_ndvi = rasterio.transform.rowcol(transform_ndvi, point.x, point.y)\n",
        "    pixel_value_ndvi = file_data_ndvi[row_ndvi, col_ndvi]\n",
        "    \n",
        "    row_ndwi, col_ndwi = rasterio.transform.rowcol(transform_ndwi, point.x, point.y)\n",
        "    pixel_value_ndwi = file_data_ndwi[row_ndwi, col_ndwi]\n",
        "    \n",
        "    \n",
        "    \n",
        "    pixeldatafarame = pixeldatafarame.append({\n",
        "        'PointID': str(int(point.rand_point)), \n",
        "        'IBI':  pixel_value_ibi,\n",
        "        'NDBI': pixel_value_ndbi,\n",
        "        'NDWI': pixel_value_ndwi,\n",
        "        'NDVI': pixel_value_ndvi      \n",
        "    },\n",
        "        ignore_index=True)\n",
        "\n",
        "\n",
        "# pixeldatafarame\n",
        "#saving the dataframe in local drive as a csv for statistical analysis\n",
        "os.makedirs('./Outputs/CSV/', exist_ok=True)  \n",
        "pixeldatafarame.to_csv('./Outputs/CSV/IndicesValueinPoints_2017.csv') "
      ]
    },
    {
      "cell_type": "code",
      "execution_count": null,
      "id": "c72f2bf1",
      "metadata": {
        "id": "c72f2bf1"
      },
      "outputs": [],
      "source": [
        "pixeldatafarame"
      ]
    },
    {
      "cell_type": "markdown",
      "id": "581e38da",
      "metadata": {
        "id": "581e38da"
      },
      "source": [
        "#### Corelations"
      ]
    },
    {
      "cell_type": "code",
      "execution_count": null,
      "id": "eb61ea88",
      "metadata": {
        "id": "eb61ea88"
      },
      "outputs": [],
      "source": [
        "dflnv = pixeldatafarame[(pixeldatafarame[\"NDVI\"] >= 0.2)]\n",
        "dflnv"
      ]
    },
    {
      "cell_type": "code",
      "execution_count": null,
      "id": "3d814cc2",
      "metadata": {
        "id": "3d814cc2"
      },
      "outputs": [],
      "source": [
        "# NDVI vs IBI\n",
        "x = dflnv['NDVI']\n",
        "y = dflnv['IBI']\n",
        "slope, intercept, r_value, p_value, std_err = stats.linregress(x,y)\n",
        "line = slope*x+intercept\n",
        "\n",
        "plt.scatter(x, y)\n",
        "plt.plot(x, line, 'r', label='y={:.3f}x+{:.3f}\\nR\\u00b2={:.3f}'.format(slope,intercept, (r_value*r_value)))\n",
        "plt.title('NDVI vs IBI')\n",
        "plt.xlabel('NDVI')\n",
        "plt.ylabel('IBI')\n",
        "plt.legend(fontsize=10)\n",
        "\n",
        "plt.show()"
      ]
    },
    {
      "cell_type": "code",
      "execution_count": 29,
      "id": "991bf263",
      "metadata": {
        "id": "991bf263"
      },
      "outputs": [],
      "source": []
    }
  ],
  "metadata": {
    "kernelspec": {
      "display_name": "Python 3 (ipykernel)",
      "language": "python",
      "name": "python3"
    },
    "language_info": {
      "codemirror_mode": {
        "name": "ipython",
        "version": 3
      },
      "file_extension": ".py",
      "mimetype": "text/x-python",
      "name": "python",
      "nbconvert_exporter": "python",
      "pygments_lexer": "ipython3",
      "version": "3.10.9"
    },
    "colab": {
      "provenance": [],
      "include_colab_link": true
    }
  },
  "nbformat": 4,
  "nbformat_minor": 5
}